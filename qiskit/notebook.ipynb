{
 "cells": [
  {
   "cell_type": "markdown",
   "id": "af4f7d0c",
   "metadata": {},
   "source": [
    "# QISKIT"
   ]
  },
  {
   "cell_type": "markdown",
   "id": "35f18516",
   "metadata": {},
   "source": [
    "## Intodução"
   ]
  },
  {
   "cell_type": "code",
   "execution_count": null,
   "id": "2d0915aa",
   "metadata": {},
   "outputs": [],
   "source": [
    "from qiskit import QuantumCircuit\n",
    "circuito_quantico = QuantumCircuit(2)\n",
    "circuito_quantico.h(0)\n",
    "circuito_quantico.cx(0, 1)\n",
    "circuito_quantico.draw(output=\"mpl\")"
   ]
  },
  {
   "cell_type": "markdown",
   "id": "9b648856",
   "metadata": {},
   "source": [
    "## Estrutura Condicional"
   ]
  },
  {
   "cell_type": "markdown",
   "id": "f7481d33",
   "metadata": {},
   "source": [
    "### c_if"
   ]
  },
  {
   "cell_type": "code",
   "execution_count": null,
   "id": "21bf4d69",
   "metadata": {},
   "outputs": [],
   "source": [
    "from qiskit import QuantumCircuit, ClassicalRegister, QuantumRegister\n",
    "\n",
    "# Criar registradores quântico e clássico\n",
    "qr = QuantumRegister(1, \"q\")\n",
    "cr = ClassicalRegister(1, \"c\")\n",
    "qc = QuantumCircuit(qr, cr)\n",
    "\n",
    "# Aplicar Hadamard para criar superposição\n",
    "qc.h(qr[0])\n",
    "\n",
    "# Medir e armazenar resultado no bit clássico\n",
    "qc.measure(qr[0], cr[0])\n",
    "\n",
    "# Aplicar X condicionalmente se o bit clássico for 1\n",
    "qc.x(qr[0]).c_if(cr, 1)\n",
    "\n",
    "qc.draw(output=\"mpl\", idle_wires=False)"
   ]
  },
  {
   "cell_type": "markdown",
   "id": "0027921a",
   "metadata": {},
   "source": [
    "### if_test"
   ]
  },
  {
   "cell_type": "code",
   "execution_count": null,
   "id": "145d1e23",
   "metadata": {},
   "outputs": [],
   "source": [
    "from qiskit import QuantumCircuit, ClassicalRegister, QuantumRegister\n",
    "\n",
    "# Criar registradores quântico e clássico\n",
    "qr = QuantumRegister(1, \"q\")\n",
    "cr = ClassicalRegister(1, \"c\")\n",
    "qc = QuantumCircuit(qr, cr)\n",
    "\n",
    "# Aplicar Hadamard para criar superposição\n",
    "qc.h(qr[0])\n",
    "\n",
    "# Medir e armazenar resultado no bit clássico\n",
    "qc.measure(qr[0], cr[0])\n",
    "\n",
    "# Aplicar X condicionalmente se o bit clássico for 1\n",
    "with qc.if_test((cr, 1)) as else_:\n",
    "    qc.x(qr[0])\n",
    "    qc.h(qr[0])\n",
    "with else_:\n",
    "    qc.h(qr[0])\n",
    "\n",
    "qc.draw(output=\"mpl\", idle_wires=False)"
   ]
  },
  {
   "cell_type": "markdown",
   "id": "c957c75f",
   "metadata": {},
   "source": [
    "### IfElseOp"
   ]
  },
  {
   "cell_type": "code",
   "execution_count": null,
   "id": "7ffa82bb",
   "metadata": {},
   "outputs": [],
   "source": [
    "from qiskit import QuantumCircuit, ClassicalRegister, QuantumRegister\n",
    "from qiskit.circuit import IfElseOp\n",
    "\n",
    "# Criar registradores quântico e clássico\n",
    "qr = QuantumRegister(1, \"q\")\n",
    "cr = ClassicalRegister(1, \"c\")\n",
    "qc = QuantumCircuit(qr, cr)\n",
    "\n",
    "# Aplicar Hadamard para criar superposição\n",
    "qc.h(qr[0])\n",
    "\n",
    "# Medir e armazenar resultado no bit clássico\n",
    "qc.measure(qr[0], cr[0])\n",
    "\n",
    "escopo_true = QuantumCircuit(1)\n",
    "escopo_true.x(0)\n",
    "escopo_true.h(0)\n",
    "\n",
    "escopo_false = QuantumCircuit(1)\n",
    "escopo_false.h(0)\n",
    "\n",
    "exemplo = IfElseOp((cr, 1), escopo_true, escopo_false)\n",
    "\n",
    "qc.append(exemplo, [qr[0]])\n",
    "\n",
    "qc.draw(output=\"mpl\", idle_wires=False)"
   ]
  },
  {
   "cell_type": "markdown",
   "id": "f83306a4",
   "metadata": {},
   "source": [
    "### Fluxo manipulado via python"
   ]
  },
  {
   "cell_type": "code",
   "execution_count": null,
   "id": "25e09874",
   "metadata": {},
   "outputs": [],
   "source": [
    "from qiskit import QuantumCircuit, ClassicalRegister, QuantumRegister\n",
    "\n",
    "valor = int(input(\"Digite 1 para aplicar porta x no circuito ou digite 2 para aplicar porta hadamard\"))\n",
    "while valor != 1 and valor != 2:\n",
    "    print(\"Valor invalido\\n\")\n",
    "    valor = int(input(\"Digite 1 para aplicar porta x no circuito ou digite 2 para aplicar porta hadamard\"))\n",
    "\n",
    "# Criar registradores quântico e clássico\n",
    "qr = QuantumRegister(1, \"q\")\n",
    "cr = ClassicalRegister(1, \"c\")\n",
    "qc = QuantumCircuit(qr, cr)\n",
    "\n",
    "if valor == 1:\n",
    "    qc.x(qr[0])\n",
    "elif valor == 2:\n",
    "    qc.h(0)\n",
    "    \n",
    "qc.measure(qr[0], cr[0])\n",
    "\n",
    "# Desenhar o circuito\n",
    "qc.draw(output=\"mpl\")"
   ]
  },
  {
   "cell_type": "markdown",
   "id": "d0368fd6",
   "metadata": {},
   "source": [
    "## Estrutura de Repetição"
   ]
  },
  {
   "cell_type": "markdown",
   "id": "047bc3ea",
   "metadata": {},
   "source": [
    "### ForLoopOp"
   ]
  },
  {
   "cell_type": "code",
   "execution_count": null,
   "id": "51474462",
   "metadata": {},
   "outputs": [],
   "source": [
    "from qiskit import QuantumCircuit, QuantumRegister\n",
    "from qiskit.circuit import ForLoopOp\n",
    "\n",
    "# Criar um registrador quântico\n",
    "qr = QuantumRegister(1, \"q\")\n",
    "qc = QuantumCircuit(qr)\n",
    "\n",
    "# Criar um bloco de circuito que será repetido\n",
    "operacoes = QuantumCircuit(1)\n",
    "operacoes.x(0)  # Aplica a porta X\n",
    "operacoes.h(0)\n",
    "\n",
    "# Criar um loop que executa 3 vezes\n",
    "exemplo = ForLoopOp(range(5), None, operacoes)\n",
    "\n",
    "# Adicionar manualmente o loop ao circuito\n",
    "qc.append(exemplo, [qr[0]])\n",
    "\n",
    "# Desenhar o circuito\n",
    "qc.draw(output=\"mpl\")"
   ]
  },
  {
   "cell_type": "markdown",
   "id": "a2cee684",
   "metadata": {},
   "source": [
    "### WhileLoopOp"
   ]
  },
  {
   "cell_type": "code",
   "execution_count": null,
   "id": "d4fafa8c",
   "metadata": {},
   "outputs": [],
   "source": [
    "from qiskit import QuantumCircuit, ClassicalRegister, QuantumRegister\n",
    "from qiskit.circuit import WhileLoopOp\n",
    "\n",
    "# Criar registradores quântico e clássico\n",
    "qr = QuantumRegister(1, \"q\")\n",
    "cr = ClassicalRegister(1, \"c\")\n",
    "qc = QuantumCircuit(qr, cr)\n",
    "\n",
    "# Aplicar Hadamard e medir\n",
    "qc.h(qr[0])\n",
    "qc.measure(qr[0], cr[0])\n",
    "\n",
    "# Criar um bloco de circuito que será repetido\n",
    "operacoes = QuantumCircuit(1, 1)\n",
    "operacoes.x(0)  # Aplica a porta X\n",
    "operacoes.h(0)\n",
    "operacoes.measure(0, 0)\n",
    "\n",
    "# Criar um loop que executa enquanto cr == 1\n",
    "loop_while = WhileLoopOp((cr, 1), operacoes)\n",
    "\n",
    "# Adicionar manualmente o loop ao circuito\n",
    "qc.append(loop_while, [qr[0]], [cr[0]])\n",
    "\n",
    "# Desenhar o circuito\n",
    "qc.draw(output=\"mpl\")"
   ]
  }
 ],
 "metadata": {
  "kernelspec": {
   "display_name": ".venv",
   "language": "python",
   "name": "python3"
  },
  "language_info": {
   "codemirror_mode": {
    "name": "ipython",
    "version": 3
   },
   "file_extension": ".py",
   "mimetype": "text/x-python",
   "name": "python",
   "nbconvert_exporter": "python",
   "pygments_lexer": "ipython3",
   "version": "3.12.0"
  }
 },
 "nbformat": 4,
 "nbformat_minor": 5
}
